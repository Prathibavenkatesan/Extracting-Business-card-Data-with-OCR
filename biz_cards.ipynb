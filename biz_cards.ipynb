{
 "cells": [
  {
   "cell_type": "code",
   "execution_count": 1,
   "metadata": {},
   "outputs": [
    {
     "name": "stderr",
     "output_type": "stream",
     "text": [
      "2024-09-16 22:39:33.235 \n",
      "  \u001b[33m\u001b[1mWarning:\u001b[0m to view this Streamlit app on a browser, run it with the following\n",
      "  command:\n",
      "\n",
      "    streamlit run c:\\Users\\ADMIN\\anaconda3\\Lib\\site-packages\\ipykernel_launcher.py [ARGUMENTS]\n",
      "2024-09-16 22:39:33.237 Session state does not function when running a script without `streamlit run`\n"
     ]
    }
   ],
   "source": [
    "import pandas as pd\n",
    "import streamlit as st\n",
    "import mysql.connector as sql\n",
    "from streamlit_option_menu import option_menu\n",
    "import easyocr as ocr\n",
    "from PIL import Image\n",
    "mydb=sql.connect(host=\"localhost\",\n",
    "                 user=\"root\",\n",
    "                 password=\"NyL@shr33\",\n",
    "                 database=\"biz_card\"\n",
    "                )\n",
    "cur=mydb.cursor()\n",
    "cur.execute(\"create database if not exists biz_card\" )\n",
    "table=cur.execute(\"create table if not exists card_details(company_name varchar(100), cardholder_name varchar(100),designation varchar(100),mobile_no varchar(100),e_mail varchar(100),website varchar(200),area varchar(100),city varchar(100),state varchar(100),pincode int,image longblob)\")\n",
    "#Visualization of process \n",
    "st.header(':RED[BUSINESS CARD EXTRACTION]')\n",
    "selected = option_menu(\n",
    "    menu_title=None,\n",
    "    options= [\"ABOUT\", \"EXTRACT\", \"UPLOAD\", \"MODIFY & DELETE\"],\n",
    "    menu_icon=None,\n",
    "    icons=None,\n",
    "    orientation=\"horizontal\"\n",
    "\n",
    "    #styles={}\n",
    ")\n",
    "\n",
    "# About a project description using streamlit\n",
    "if selected==\"ABOUT\":\n",
    "    st.title(\"PROJECT DESCRIPTION\")\n",
    "    st.text('''This project leverages the EasyOCR library to recognize text on business cards and extracts the data into a SQL database and provides an intuitive interface for users to upload  extract, and modify business card data.''')\n",
    "    st.caption(\"Streamlit\")\n",
    "    st.text('''A user-friendly UI built using Streamlit library, allowing users to interact with the application and perform data retrieval and analysis tasks.''')\n",
    "    st.caption(\"Easy OCR\")\n",
    "    st.text('''The EasyOCR library extracts text from the uploaded image.''')\n",
    "    st.caption(\"Python\")\n",
    "    st.text('''The programming language used for building the application and scripting tasks.''')\n",
    "    st.caption(\"MySQL\")\n",
    "    st.text('''Migration of data from the data lake to a SQL database, allowing for efficient querying and analysis using SQL queries.''')\n",
    "    st.caption(\"Visual Stdio Code\")\n",
    "    st.text('''Visual Studio Code is a code editor redefined and optimized for building and debugging modern web and cloud applications.''')\n",
    "    \n",
    "#Extracting the image \n",
    "if selected==\"EXTRACT\":\n",
    "    st.subheader(\"upload a Image\")\n",
    "    image_file=st.file_uploader(\"upload Images\",type=[\"png\",\"jpg\",\"jpeg\"])\n",
    "    if image_file is not None:\n",
    "        file_details={\"filename\":image_file.name,\"filetype\":image_file.type,\"filesize\":image_file.size}\n",
    "\n",
    "        reader=ocr.Reader(['en'],model_storage_directory=\"C:/Users/ADMIN/Desktop/projects_coding\")\n",
    "        result=reader.readtext(\"2.png\")\n",
    "        for text in result:\n",
    "            print(text[1])"
   ]
  },
  {
   "cell_type": "code",
   "execution_count": 2,
   "metadata": {},
   "outputs": [
    {
     "name": "stderr",
     "output_type": "stream",
     "text": [
      "Neither CUDA nor MPS are available - defaulting to CPU. Note: This module is much faster with a GPU.\n"
     ]
    },
    {
     "name": "stdout",
     "output_type": "stream",
     "text": [
      "Amit kumar\n",
      "CEO & FOUNDER\n",
      "123-456-7569\n",
      "hello@global.com\n",
      "WWW\n",
      "global.com\n",
      "123 global\n",
      "Erode,\n",
      "GLOBAL\n",
      "TamilNadu 600115\n",
      "INSURANCE\n",
      "St ,\n"
     ]
    }
   ],
   "source": [
    "import easyocr as ocr\n",
    "reader=ocr.Reader(['en'],model_storage_directory=\".\")\n",
    "result=reader.readtext(\"2.png\")\n",
    "for text in result:\n",
    "    print(text[1])"
   ]
  },
  {
   "cell_type": "code",
   "execution_count": 1,
   "metadata": {},
   "outputs": [
    {
     "name": "stderr",
     "output_type": "stream",
     "text": [
      "2024-09-24 22:57:30.984 WARNING streamlit.runtime.scriptrunner_utils.script_run_context: Thread 'MainThread': missing ScriptRunContext! This warning can be ignored when running in bare mode.\n"
     ]
    }
   ],
   "source": [
    "\n",
    "import pandas as pd\n",
    "import streamlit as st\n",
    "import mysql.connector as sql\n",
    "from streamlit_option_menu import option_menu\n",
    "import easyocr as ocr\n",
    "from PIL import Image\n",
    "import numpy as np\n",
    "import io\n",
    "import easyocr\n",
    "import re"
   ]
  },
  {
   "cell_type": "code",
   "execution_count": 3,
   "metadata": {},
   "outputs": [],
   "source": [
    "def IMG_to_TXT(path):\n",
    "    Inp_Img= Image.open(path)\n",
    "    Img_arr= np.array(Inp_Img)# converting image into array\n",
    "    lang= easyocr.Reader([\"en\"]) #define reader language \n",
    "    text= lang.readtext(Img_arr, detail=0)\n",
    "    return text, Inp_Img"
   ]
  },
  {
   "cell_type": "code",
   "execution_count": 4,
   "metadata": {},
   "outputs": [
    {
     "name": "stderr",
     "output_type": "stream",
     "text": [
      "Neither CUDA nor MPS are available - defaulting to CPU. Note: This module is much faster with a GPU.\n"
     ]
    },
    {
     "data": {
      "text/plain": [
       "(['Amit kumar',\n",
       "  'CEO & FOUNDER',\n",
       "  '123-456-7569',\n",
       "  'hello@global.com',\n",
       "  'WWW',\n",
       "  'global.com',\n",
       "  '123 global',\n",
       "  'Erode,',\n",
       "  'GLOBAL',\n",
       "  'TamilNadu 600115',\n",
       "  'INSURANCE',\n",
       "  'St ,'],\n",
       " <PIL.PngImagePlugin.PngImageFile image mode=RGBA size=1004x590>)"
      ]
     },
     "execution_count": 4,
     "metadata": {},
     "output_type": "execute_result"
    }
   ],
   "source": [
    "text,img=IMG_to_TXT(\"C:/Users/ADMIN/Desktop/projects_coding/business_card/2.png\")\n",
    "text,img"
   ]
  },
  {
   "cell_type": "code",
   "execution_count": 19,
   "metadata": {},
   "outputs": [
    {
     "name": "stderr",
     "output_type": "stream",
     "text": [
      "Neither CUDA nor MPS are available - defaulting to CPU. Note: This module is much faster with a GPU.\n",
      "Downloading detection model, please wait. This may take several minutes depending upon your network connection.\n"
     ]
    },
    {
     "name": "stdout",
     "output_type": "stream",
     "text": [
      "Progress: |█████████████████████-----------------------------| 42.3% Complete"
     ]
    },
    {
     "ename": "KeyboardInterrupt",
     "evalue": "",
     "output_type": "error",
     "traceback": [
      "\u001b[1;31m---------------------------------------------------------------------------\u001b[0m",
      "\u001b[1;31mKeyboardInterrupt\u001b[0m                         Traceback (most recent call last)",
      "Cell \u001b[1;32mIn[19], line 2\u001b[0m\n\u001b[0;32m      1\u001b[0m \u001b[38;5;28;01mwith\u001b[39;00m tempfile\u001b[38;5;241m.\u001b[39mTemporaryDirectory() \u001b[38;5;28;01mas\u001b[39;00m temp_dir:\n\u001b[1;32m----> 2\u001b[0m             reader\u001b[38;5;241m=\u001b[39mocr\u001b[38;5;241m.\u001b[39mReader([\u001b[38;5;124m'\u001b[39m\u001b[38;5;124men\u001b[39m\u001b[38;5;124m'\u001b[39m],model_storage_directory\u001b[38;5;241m=\u001b[39mtemp_dir)\n\u001b[0;32m      3\u001b[0m     \u001b[38;5;66;03m# Streamlit file uploader to upload an image\u001b[39;00m\n\u001b[0;32m      4\u001b[0m image_file\u001b[38;5;241m=\u001b[39mst\u001b[38;5;241m.\u001b[39mfile_uploader(\u001b[38;5;124m\"\u001b[39m\u001b[38;5;124mupload Images\u001b[39m\u001b[38;5;124m\"\u001b[39m,\u001b[38;5;28mtype\u001b[39m\u001b[38;5;241m=\u001b[39m[\u001b[38;5;124m\"\u001b[39m\u001b[38;5;124mpng\u001b[39m\u001b[38;5;124m\"\u001b[39m,\u001b[38;5;124m\"\u001b[39m\u001b[38;5;124mjpg\u001b[39m\u001b[38;5;124m\"\u001b[39m,\u001b[38;5;124m\"\u001b[39m\u001b[38;5;124mjpeg\u001b[39m\u001b[38;5;124m\"\u001b[39m,\u001b[38;5;124m\"\u001b[39m\u001b[38;5;124mgif\u001b[39m\u001b[38;5;124m\"\u001b[39m])\n",
      "File \u001b[1;32mc:\\Users\\ADMIN\\anaconda3\\Lib\\site-packages\\easyocr\\easyocr.py:92\u001b[0m, in \u001b[0;36mReader.__init__\u001b[1;34m(self, lang_list, gpu, model_storage_directory, user_network_directory, detect_network, recog_network, download_enabled, detector, recognizer, verbose, quantize, cudnn_benchmark)\u001b[0m\n\u001b[0;32m     90\u001b[0m \u001b[38;5;28mself\u001b[39m\u001b[38;5;241m.\u001b[39mcudnn_benchmark\u001b[38;5;241m=\u001b[39mcudnn_benchmark\n\u001b[0;32m     91\u001b[0m \u001b[38;5;28;01mif\u001b[39;00m detector:\n\u001b[1;32m---> 92\u001b[0m     detector_path \u001b[38;5;241m=\u001b[39m \u001b[38;5;28mself\u001b[39m\u001b[38;5;241m.\u001b[39mgetDetectorPath(detect_network)\n\u001b[0;32m     94\u001b[0m \u001b[38;5;66;03m# recognition model\u001b[39;00m\n\u001b[0;32m     95\u001b[0m separator_list \u001b[38;5;241m=\u001b[39m {}\n",
      "File \u001b[1;32mc:\\Users\\ADMIN\\anaconda3\\Lib\\site-packages\\easyocr\\easyocr.py:253\u001b[0m, in \u001b[0;36mReader.getDetectorPath\u001b[1;34m(self, detect_network)\u001b[0m\n\u001b[0;32m    250\u001b[0m     \u001b[38;5;28;01mraise\u001b[39;00m \u001b[38;5;167;01mFileNotFoundError\u001b[39;00m(\u001b[38;5;124m\"\u001b[39m\u001b[38;5;124mMissing \u001b[39m\u001b[38;5;132;01m%s\u001b[39;00m\u001b[38;5;124m and downloads disabled\u001b[39m\u001b[38;5;124m\"\u001b[39m \u001b[38;5;241m%\u001b[39m detector_path)\n\u001b[0;32m    251\u001b[0m LOGGER\u001b[38;5;241m.\u001b[39mwarning(\u001b[38;5;124m'\u001b[39m\u001b[38;5;124mDownloading detection model, please wait. \u001b[39m\u001b[38;5;124m'\u001b[39m\n\u001b[0;32m    252\u001b[0m                \u001b[38;5;124m'\u001b[39m\u001b[38;5;124mThis may take several minutes depending upon your network connection.\u001b[39m\u001b[38;5;124m'\u001b[39m)\n\u001b[1;32m--> 253\u001b[0m download_and_unzip(\u001b[38;5;28mself\u001b[39m\u001b[38;5;241m.\u001b[39mdetection_models[\u001b[38;5;28mself\u001b[39m\u001b[38;5;241m.\u001b[39mdetect_network][\u001b[38;5;124m'\u001b[39m\u001b[38;5;124murl\u001b[39m\u001b[38;5;124m'\u001b[39m], \u001b[38;5;28mself\u001b[39m\u001b[38;5;241m.\u001b[39mdetection_models[\u001b[38;5;28mself\u001b[39m\u001b[38;5;241m.\u001b[39mdetect_network][\u001b[38;5;124m'\u001b[39m\u001b[38;5;124mfilename\u001b[39m\u001b[38;5;124m'\u001b[39m], \u001b[38;5;28mself\u001b[39m\u001b[38;5;241m.\u001b[39mmodel_storage_directory, \u001b[38;5;28mself\u001b[39m\u001b[38;5;241m.\u001b[39mverbose)\n\u001b[0;32m    254\u001b[0m \u001b[38;5;28;01massert\u001b[39;00m calculate_md5(detector_path) \u001b[38;5;241m==\u001b[39m \u001b[38;5;28mself\u001b[39m\u001b[38;5;241m.\u001b[39mdetection_models[\u001b[38;5;28mself\u001b[39m\u001b[38;5;241m.\u001b[39mdetect_network][\u001b[38;5;124m'\u001b[39m\u001b[38;5;124mmd5sum\u001b[39m\u001b[38;5;124m'\u001b[39m], corrupt_msg\n\u001b[0;32m    255\u001b[0m LOGGER\u001b[38;5;241m.\u001b[39minfo(\u001b[38;5;124m'\u001b[39m\u001b[38;5;124mDownload complete\u001b[39m\u001b[38;5;124m'\u001b[39m)\n",
      "File \u001b[1;32mc:\\Users\\ADMIN\\anaconda3\\Lib\\site-packages\\easyocr\\utils.py:628\u001b[0m, in \u001b[0;36mdownload_and_unzip\u001b[1;34m(url, filename, model_storage_directory, verbose)\u001b[0m\n\u001b[0;32m    626\u001b[0m zip_path \u001b[38;5;241m=\u001b[39m os\u001b[38;5;241m.\u001b[39mpath\u001b[38;5;241m.\u001b[39mjoin(model_storage_directory, \u001b[38;5;124m'\u001b[39m\u001b[38;5;124mtemp.zip\u001b[39m\u001b[38;5;124m'\u001b[39m)\n\u001b[0;32m    627\u001b[0m reporthook \u001b[38;5;241m=\u001b[39m printProgressBar(prefix\u001b[38;5;241m=\u001b[39m\u001b[38;5;124m'\u001b[39m\u001b[38;5;124mProgress:\u001b[39m\u001b[38;5;124m'\u001b[39m, suffix\u001b[38;5;241m=\u001b[39m\u001b[38;5;124m'\u001b[39m\u001b[38;5;124mComplete\u001b[39m\u001b[38;5;124m'\u001b[39m, length\u001b[38;5;241m=\u001b[39m\u001b[38;5;241m50\u001b[39m) \u001b[38;5;28;01mif\u001b[39;00m verbose \u001b[38;5;28;01melse\u001b[39;00m \u001b[38;5;28;01mNone\u001b[39;00m\n\u001b[1;32m--> 628\u001b[0m urlretrieve(url, zip_path, reporthook\u001b[38;5;241m=\u001b[39mreporthook)\n\u001b[0;32m    629\u001b[0m \u001b[38;5;28;01mwith\u001b[39;00m ZipFile(zip_path, \u001b[38;5;124m'\u001b[39m\u001b[38;5;124mr\u001b[39m\u001b[38;5;124m'\u001b[39m) \u001b[38;5;28;01mas\u001b[39;00m zipObj:\n\u001b[0;32m    630\u001b[0m     zipObj\u001b[38;5;241m.\u001b[39mextract(filename, model_storage_directory)\n",
      "File \u001b[1;32mc:\\Users\\ADMIN\\anaconda3\\Lib\\urllib\\request.py:270\u001b[0m, in \u001b[0;36murlretrieve\u001b[1;34m(url, filename, reporthook, data)\u001b[0m\n\u001b[0;32m    267\u001b[0m     reporthook(blocknum, bs, size)\n\u001b[0;32m    269\u001b[0m \u001b[38;5;28;01mwhile\u001b[39;00m \u001b[38;5;28;01mTrue\u001b[39;00m:\n\u001b[1;32m--> 270\u001b[0m     block \u001b[38;5;241m=\u001b[39m fp\u001b[38;5;241m.\u001b[39mread(bs)\n\u001b[0;32m    271\u001b[0m     \u001b[38;5;28;01mif\u001b[39;00m \u001b[38;5;129;01mnot\u001b[39;00m block:\n\u001b[0;32m    272\u001b[0m         \u001b[38;5;28;01mbreak\u001b[39;00m\n",
      "File \u001b[1;32mc:\\Users\\ADMIN\\anaconda3\\Lib\\http\\client.py:473\u001b[0m, in \u001b[0;36mHTTPResponse.read\u001b[1;34m(self, amt)\u001b[0m\n\u001b[0;32m    470\u001b[0m \u001b[38;5;28;01mif\u001b[39;00m \u001b[38;5;28mself\u001b[39m\u001b[38;5;241m.\u001b[39mlength \u001b[38;5;129;01mis\u001b[39;00m \u001b[38;5;129;01mnot\u001b[39;00m \u001b[38;5;28;01mNone\u001b[39;00m \u001b[38;5;129;01mand\u001b[39;00m amt \u001b[38;5;241m>\u001b[39m \u001b[38;5;28mself\u001b[39m\u001b[38;5;241m.\u001b[39mlength:\n\u001b[0;32m    471\u001b[0m     \u001b[38;5;66;03m# clip the read to the \"end of response\"\u001b[39;00m\n\u001b[0;32m    472\u001b[0m     amt \u001b[38;5;241m=\u001b[39m \u001b[38;5;28mself\u001b[39m\u001b[38;5;241m.\u001b[39mlength\n\u001b[1;32m--> 473\u001b[0m s \u001b[38;5;241m=\u001b[39m \u001b[38;5;28mself\u001b[39m\u001b[38;5;241m.\u001b[39mfp\u001b[38;5;241m.\u001b[39mread(amt)\n\u001b[0;32m    474\u001b[0m \u001b[38;5;28;01mif\u001b[39;00m \u001b[38;5;129;01mnot\u001b[39;00m s \u001b[38;5;129;01mand\u001b[39;00m amt:\n\u001b[0;32m    475\u001b[0m     \u001b[38;5;66;03m# Ideally, we would raise IncompleteRead if the content-length\u001b[39;00m\n\u001b[0;32m    476\u001b[0m     \u001b[38;5;66;03m# wasn't satisfied, but it might break compatibility.\u001b[39;00m\n\u001b[0;32m    477\u001b[0m     \u001b[38;5;28mself\u001b[39m\u001b[38;5;241m.\u001b[39m_close_conn()\n",
      "File \u001b[1;32mc:\\Users\\ADMIN\\anaconda3\\Lib\\socket.py:706\u001b[0m, in \u001b[0;36mSocketIO.readinto\u001b[1;34m(self, b)\u001b[0m\n\u001b[0;32m    704\u001b[0m \u001b[38;5;28;01mwhile\u001b[39;00m \u001b[38;5;28;01mTrue\u001b[39;00m:\n\u001b[0;32m    705\u001b[0m     \u001b[38;5;28;01mtry\u001b[39;00m:\n\u001b[1;32m--> 706\u001b[0m         \u001b[38;5;28;01mreturn\u001b[39;00m \u001b[38;5;28mself\u001b[39m\u001b[38;5;241m.\u001b[39m_sock\u001b[38;5;241m.\u001b[39mrecv_into(b)\n\u001b[0;32m    707\u001b[0m     \u001b[38;5;28;01mexcept\u001b[39;00m timeout:\n\u001b[0;32m    708\u001b[0m         \u001b[38;5;28mself\u001b[39m\u001b[38;5;241m.\u001b[39m_timeout_occurred \u001b[38;5;241m=\u001b[39m \u001b[38;5;28;01mTrue\u001b[39;00m\n",
      "File \u001b[1;32mc:\\Users\\ADMIN\\anaconda3\\Lib\\ssl.py:1315\u001b[0m, in \u001b[0;36mSSLSocket.recv_into\u001b[1;34m(self, buffer, nbytes, flags)\u001b[0m\n\u001b[0;32m   1311\u001b[0m     \u001b[38;5;28;01mif\u001b[39;00m flags \u001b[38;5;241m!=\u001b[39m \u001b[38;5;241m0\u001b[39m:\n\u001b[0;32m   1312\u001b[0m         \u001b[38;5;28;01mraise\u001b[39;00m \u001b[38;5;167;01mValueError\u001b[39;00m(\n\u001b[0;32m   1313\u001b[0m           \u001b[38;5;124m\"\u001b[39m\u001b[38;5;124mnon-zero flags not allowed in calls to recv_into() on \u001b[39m\u001b[38;5;132;01m%s\u001b[39;00m\u001b[38;5;124m\"\u001b[39m \u001b[38;5;241m%\u001b[39m\n\u001b[0;32m   1314\u001b[0m           \u001b[38;5;28mself\u001b[39m\u001b[38;5;241m.\u001b[39m\u001b[38;5;18m__class__\u001b[39m)\n\u001b[1;32m-> 1315\u001b[0m     \u001b[38;5;28;01mreturn\u001b[39;00m \u001b[38;5;28mself\u001b[39m\u001b[38;5;241m.\u001b[39mread(nbytes, buffer)\n\u001b[0;32m   1316\u001b[0m \u001b[38;5;28;01melse\u001b[39;00m:\n\u001b[0;32m   1317\u001b[0m     \u001b[38;5;28;01mreturn\u001b[39;00m \u001b[38;5;28msuper\u001b[39m()\u001b[38;5;241m.\u001b[39mrecv_into(buffer, nbytes, flags)\n",
      "File \u001b[1;32mc:\\Users\\ADMIN\\anaconda3\\Lib\\ssl.py:1167\u001b[0m, in \u001b[0;36mSSLSocket.read\u001b[1;34m(self, len, buffer)\u001b[0m\n\u001b[0;32m   1165\u001b[0m \u001b[38;5;28;01mtry\u001b[39;00m:\n\u001b[0;32m   1166\u001b[0m     \u001b[38;5;28;01mif\u001b[39;00m buffer \u001b[38;5;129;01mis\u001b[39;00m \u001b[38;5;129;01mnot\u001b[39;00m \u001b[38;5;28;01mNone\u001b[39;00m:\n\u001b[1;32m-> 1167\u001b[0m         \u001b[38;5;28;01mreturn\u001b[39;00m \u001b[38;5;28mself\u001b[39m\u001b[38;5;241m.\u001b[39m_sslobj\u001b[38;5;241m.\u001b[39mread(\u001b[38;5;28mlen\u001b[39m, buffer)\n\u001b[0;32m   1168\u001b[0m     \u001b[38;5;28;01melse\u001b[39;00m:\n\u001b[0;32m   1169\u001b[0m         \u001b[38;5;28;01mreturn\u001b[39;00m \u001b[38;5;28mself\u001b[39m\u001b[38;5;241m.\u001b[39m_sslobj\u001b[38;5;241m.\u001b[39mread(\u001b[38;5;28mlen\u001b[39m)\n",
      "\u001b[1;31mKeyboardInterrupt\u001b[0m: "
     ]
    }
   ],
   "source": [
    "\n",
    "with tempfile.TemporaryDirectory() as temp_dir:\n",
    "            reader=ocr.Reader(['en'],model_storage_directory=temp_dir)\n",
    "    # Streamlit file uploader to upload an image\n",
    "image_file=st.file_uploader(\"upload Images\",type=[\"png\",\"jpg\",\"jpeg\",\"gif\"])\n",
    "if image_file is not None:\n",
    "        #display the image\n",
    "        st.image(image_file,width=350,caption=\"uploaded Images\")\n",
    "        \n",
    "        # Convert the UploadedFile object into a PIL Image\n",
    "        image = Image.open(image_file)\n",
    "        # If you want to save the image into a BytesIO stream (for example to manipulate it in memory)\n",
    "        \n",
    "        image_bytes=io.BytesIO()\n",
    "        image.save(image_bytes,format='PNG')# Save the image to the BytesIO stream\n",
    "        image_bytes.seek(0)# Go to the beginning of the stream after saving\n",
    "        image_data=image_bytes.getvalue()\n",
    "    # Convert the image to a numpy array for EasyOCR and Use EasyOCR to read text from the numpy array image\n",
    "        result = reader.readtext(np.array(image))\n",
    "        textdic=extract_text(result)\n",
    "        df=pd.DataFrame(textdic)\n",
    "        print(df)\n",
    "        #new=[]\n",
    "        for text in result:\n",
    "            new.append(text[1])\n",
    "\n",
    "        st.write(new)\n",
    "        "
   ]
  },
  {
   "cell_type": "code",
   "execution_count": 5,
   "metadata": {},
   "outputs": [],
   "source": [
    "def extract_text(resu,Img):\n",
    "    col={'CARDHOLDER_NAME':[],\n",
    "         'DESIGNATION':[],\n",
    "         'COMPANY_NAME':[],\n",
    "         'CONTACT':[],\n",
    "         'AREA':[],\n",
    "         'CITY':[],\n",
    "         'STATE':[],\n",
    "         'PINCODE':[],\n",
    "         'MAIL_ID':[],\n",
    "         'WEBSITE':[],\"IMAGE\": []}\n",
    "    print(\"Input data (resu):\", resu)\n",
    "\n",
    "    data=[]\n",
    "    for i in resu:\n",
    "        data.append(i)\n",
    "    #To get image\n",
    "    col['IMAGE'].append(Img)\n",
    "    #Extract cardholder name\n",
    "    col['CARDHOLDER_NAME'].append(data[0])\n",
    "    #To get designation\n",
    "    col['DESIGNATION'].append(data[1])\n",
    "    #To get company_name\n",
    "    if re.findall(\"^d.\",data[-1]):\n",
    "        co1=data[7]+' '+data[9]\n",
    "        col['COMPANY_NAME'].append(co1)\n",
    "    elif re.findall(\"^A.\",data[-1]):\n",
    "        co2=data[7]+' '+data[8]\n",
    "        col['COMPANY_NAME'].append(co2)\n",
    "    elif re.findall(\"^R.\",data[-1]):\n",
    "        co3=data[6]+' '+data[8]\n",
    "        col['COMPANY_NAME'].append(co3)\n",
    "    elif re.findall(\"^I.\",data[-1]):\n",
    "        co4=data[8]+' '+data[10]+' '+data[11]\n",
    "        col['COMPANY_NAME'].append(co4)\n",
    "    else:\n",
    "        col['COMPANY_NAME'].append(data[-1])\n",
    "    # To get contact\n",
    "    for item in range(len(data)):\n",
    "        #To get Contact\n",
    "        if '+' in data[item] or '-' in data[item]:\n",
    "            col['CONTACT'].append(data[item])\n",
    "            if (len(col['CONTACT'])==2):\n",
    "                col['CONTACT']=col['CONTACT'][0]+\",\"+col['CONTACT'][1]\n",
    "        # To get AREA\n",
    "        elif re.findall(\"^[0-9].+[a-zA-Z]+\",data[item]):\n",
    "            col['AREA'].append(data[item].split(',')[0])\n",
    "            \n",
    "        # To get city\n",
    "        if re.findall(r'.+St , ([a-zA-Z].+)',data[item]):\n",
    "            c1=re.findall(r'.+St,, ([a-zA-Z].+)',data[item])[0]\n",
    "            c2=re.sub(r'[\\W+$]','',c1)\n",
    "\n",
    "            col['CITY'].append(c2)\n",
    "             \n",
    "        #To get mail id\n",
    "        elif '@' in data[item]:\n",
    "            col['MAIL_ID'].append(data[item])\n",
    "        # To get website\n",
    "        if 'www' in data[item].lower() or 'wwW' in data[item] or 'Www' in data[item]:\n",
    "            col[\"WEBSITE\"].append(data[item])\n",
    "        elif 'WWW' in data[item]:\n",
    "            col['WEBSITE'].append(data[item])   \n",
    "        #To get pincode\n",
    "        if data[item].isdigit():\n",
    "            col['PINCODE'].append(data[item])\n",
    "        elif re.findall(r'\\b\\d{6}\\b',data[item]):\n",
    "            col['PINCODE'].append(data[item].split()[1])\n",
    "            col['STATE'].append(data[item].split()[0])          \n",
    "    return col    \n"
   ]
  },
  {
   "cell_type": "code",
   "execution_count": 6,
   "metadata": {},
   "outputs": [
    {
     "name": "stdout",
     "output_type": "stream",
     "text": [
      "Input data (resu): ['Amit kumar', 'CEO & FOUNDER', '123-456-7569', 'hello@global.com', 'WWW', 'global.com', '123 global', 'Erode,', 'GLOBAL', 'TamilNadu 600115', 'INSURANCE', 'St ,']\n"
     ]
    },
    {
     "data": {
      "text/plain": [
       "{'CARDHOLDER_NAME': ['Amit kumar'],\n",
       " 'DESIGNATION': ['CEO & FOUNDER'],\n",
       " 'COMPANY_NAME': ['St ,'],\n",
       " 'CONTACT': ['123-456-7569'],\n",
       " 'AREA': ['123 global'],\n",
       " 'CITY': [],\n",
       " 'STATE': ['TamilNadu'],\n",
       " 'PINCODE': ['600115'],\n",
       " 'MAIL_ID': ['hello@global.com'],\n",
       " 'WEBSITE': ['WWW'],\n",
       " 'IMAGE': [<PIL.PngImagePlugin.PngImageFile image mode=RGBA size=1004x590>]}"
      ]
     },
     "execution_count": 6,
     "metadata": {},
     "output_type": "execute_result"
    }
   ],
   "source": [
    "table=extract_text(text,img)\n",
    "table\n"
   ]
  },
  {
   "cell_type": "code",
   "execution_count": 7,
   "metadata": {},
   "outputs": [],
   "source": [
    "df=pd.DataFrame(table)"
   ]
  },
  {
   "cell_type": "code",
   "execution_count": 8,
   "metadata": {},
   "outputs": [
    {
     "data": {
      "text/html": [
       "<div>\n",
       "<style scoped>\n",
       "    .dataframe tbody tr th:only-of-type {\n",
       "        vertical-align: middle;\n",
       "    }\n",
       "\n",
       "    .dataframe tbody tr th {\n",
       "        vertical-align: top;\n",
       "    }\n",
       "\n",
       "    .dataframe thead th {\n",
       "        text-align: right;\n",
       "    }\n",
       "</style>\n",
       "<table border=\"1\" class=\"dataframe\">\n",
       "  <thead>\n",
       "    <tr style=\"text-align: right;\">\n",
       "      <th></th>\n",
       "      <th>CARDHOLDER_NAME</th>\n",
       "      <th>DESIGNATION</th>\n",
       "      <th>COMPANY_NAME</th>\n",
       "      <th>CONTACT</th>\n",
       "      <th>AREA</th>\n",
       "      <th>CITY</th>\n",
       "      <th>STATE</th>\n",
       "      <th>PINCODE</th>\n",
       "      <th>MAIL_ID</th>\n",
       "      <th>WEBSITE</th>\n",
       "      <th>IMAGE</th>\n",
       "    </tr>\n",
       "  </thead>\n",
       "  <tbody>\n",
       "    <tr>\n",
       "      <th>0</th>\n",
       "      <td>Selva</td>\n",
       "      <td>DATA MANAGER</td>\n",
       "      <td>selva digitals</td>\n",
       "      <td>+123-456-7890,+123-456-7891</td>\n",
       "      <td>123 ABC St</td>\n",
       "      <td>Chennai</td>\n",
       "      <td>TamilNadu</td>\n",
       "      <td>600113</td>\n",
       "      <td>hello@XYZ1.com</td>\n",
       "      <td>WWW XYZI.com</td>\n",
       "      <td>&lt;PIL.PngImagePlugin.PngImageFile image mode=RG...</td>\n",
       "    </tr>\n",
       "  </tbody>\n",
       "</table>\n",
       "</div>"
      ],
      "text/plain": [
       "  CARDHOLDER_NAME   DESIGNATION    COMPANY_NAME                      CONTACT  \\\n",
       "0           Selva  DATA MANAGER  selva digitals  +123-456-7890,+123-456-7891   \n",
       "\n",
       "          AREA     CITY      STATE PINCODE         MAIL_ID       WEBSITE  \\\n",
       "0  123 ABC St   Chennai  TamilNadu  600113  hello@XYZ1.com  WWW XYZI.com   \n",
       "\n",
       "                                               IMAGE  \n",
       "0  <PIL.PngImagePlugin.PngImageFile image mode=RG...  "
      ]
     },
     "execution_count": 8,
     "metadata": {},
     "output_type": "execute_result"
    }
   ],
   "source": [
    "df"
   ]
  },
  {
   "cell_type": "code",
   "execution_count": 3,
   "metadata": {},
   "outputs": [],
   "source": [
    "import mysql.connector as sql\n",
    "mydb=sql.connect(host=\"localhost\",\n",
    "                 user=\"root\",\n",
    "                 password=\"NyL@shr33\",\n",
    "                 database=\"biz_card\"\n",
    "                )\n",
    "cur=mydb.cursor()\n",
    "cur.execute(\"create database if not exists biz_card\" )\n",
    "table=cur.execute(\"create table if not exists card_details1(CARDHOLDER_NAME varchar(100), DESIGNATION varchar(100),COMPANY_NAME varchar(100),CONTACT varchar(100),AREA varchar(100),CITY varchar(200),STATE text,PINCODE varchar(100),MAIL_ID varchar(100),WEBSITE varchar(100),IMAGE longblob))\")"
   ]
  },
  {
   "cell_type": "code",
   "execution_count": 7,
   "metadata": {},
   "outputs": [
    {
     "name": "stdout",
     "output_type": "stream",
     "text": [
      "inserted successfully\n"
     ]
    }
   ],
   "source": [
    "if selected==\"MODIFY\":\n",
    "    if st.button(\"Store the data to sql\"):\n",
    "        mydb=sql.connect(host=\"localhost\",\n",
    "                 user=\"root\",\n",
    "                 password=\"NyL@shr33\",\n",
    "                 database=\"biz_card\"\n",
    "                )\n",
    "        cur=mydb.cursor()\n",
    "        insert_query='''INSERT INTO card_details1(CARDHOLDER_NAME,DESIGNATION,COMPANY_NAME,CONTACT,AREA,CITY,STATE,PINCODE,MAIL_ID,WEBSITE,IMAGE)\n",
    "                            values(%s,%s,%s,%s,%s,%s,%s,%s,%s,%s,%s)'''\n",
    "        try:\n",
    "            values=df.values.tolist()\n",
    "            cur.executemany(insert_query,values)\n",
    "            mydb.commit()\n",
    "        except:\n",
    "            pass\n",
    "            print(\"Inserted successfully into SQL\")\n",
    "\n",
    "       "
   ]
  },
  {
   "cell_type": "code",
   "execution_count": null,
   "metadata": {},
   "outputs": [],
   "source": [
    "1. 'Selva',\n",
    "  'DATA MANAGER',\n",
    "  '+123-456-7890',\n",
    "  '+123-456-7891',\n",
    "  'WWW XYZI.com',\n",
    "  'hello@XYZ1.com',\n",
    "  '123 ABC St , Chennai;',\n",
    "  'selva',\n",
    "  'TamilNadu 600113',\n",
    "  'digitals'],\n",
    " <PIL.PngImagePlugin.PngImageFile image mode=RGBA size=1004x590>)\n",
    "\n",
    " 2.'Amit kumar',\n",
    "  'CEO & FOUNDER',\n",
    "  '123-456-7569',\n",
    "  'hello@global.com',\n",
    "  'WWW',\n",
    "  'global.com',\n",
    "  '123 global',\n",
    "  'Erode,',\n",
    "  'GLOBAL',\n",
    "  'TamilNadu 600115',\n",
    "  'INSURANCE',\n",
    "  'St ,'],\n",
    " <PIL.PngImagePlugin.PngImageFile image mode=RGBA size=1004x590>)\n",
    "\n",
    " 3.'KARTHICK',\n",
    "  'General Manager',\n",
    "  '123 ABC St , Salem,',\n",
    "  'TamilNadu 6004513',\n",
    "  '+123-456-7890',\n",
    "  'hello@Borcelle.com',\n",
    "  'wwW.Borcelle.com',\n",
    "  'BORCELLE',\n",
    "  'AIRLINES'],\n",
    " <PIL.PngImagePlugin.PngImageFile image mode=RGBA size=1004x590>)\n",
    "\n",
    "\n",
    " 4.'REVANTH',\n",
    "  'Marketing Executive',\n",
    "  '123 ABC St,, HYDRABAD, TamilNadu;',\n",
    "  '600001',\n",
    "  '+91-456-1234',\n",
    "  'hello@CHRISTMAS.com',\n",
    "  'Family',\n",
    "  'wwW.CHRISTMAS.com',\n",
    "  'Restaurant'],\n",
    " <PIL.PngImagePlugin.PngImageFile image mode=RGBA size=1004x590>)\n",
    "\n",
    " 5.'SANTHOSH',\n",
    "  'Technical Manager',\n",
    "  '123 ABC St , Tirupur, TamilNadu;',\n",
    "  '641603',\n",
    "  '+123-456-1234',\n",
    "  'hello@Sun.com',\n",
    "  'www.Suncom',\n",
    "  'Sun Electricals'],\n",
    " <PIL.PngImagePlugin.PngImageFile image mode=RGBA size=1004x590>)"
   ]
  },
  {
   "cell_type": "code",
   "execution_count": null,
   "metadata": {},
   "outputs": [],
   "source": [
    "if re.findall(r'.+St , ([a-zA-Z]).+',data[item]):\n",
    "                                col['CITY'].append(re.findall(r'.+St , ([a-zA-Z\\s]+)',data[item])[0].strip())\n",
    "                            elif re.findall(r'.+St,, ([a-zA-Z]).+',data[item]):\n",
    "                                col['CITY'].append(re.findall(r'.+St,, ([a-zA-Z]).+',data[item])[0].strip())\n",
    "                            elif re.findall(r'^[E].*',data[item]):\n",
    "                                col['CITY'].append(data[item]) \n",
    "# To get mail id info\n",
    "            elif '@' in value:\n",
    "                col['MAIL_ID'].append(value)\n",
    "        # To get Contact(mobile number)\n",
    "            elif '+' in value or '-' in value:\n",
    "                col['CONTACT'].append(value)\n",
    "                if len(col['CONTACT'])==2:\n",
    "                    col['CONTACT']='&'.join(col['CONTACT'])\n",
    "        #To get company name\n",
    "            elif key==len(resu)-1:\n",
    "                col['COMPANY_NAME'].append(value)\n",
    "        #To get CARDHOLDER_NAME\n",
    "            elif key==0:\n",
    "                col['CARDHOLDER_NAME'].append(value)\n",
    "        # TO get designation\n",
    "            elif key==1:\n",
    "                col['DESIGNATION'].append(value)\n",
    "        # To get area\n",
    "          # First case: Match a number followed by text separated by a comma\n",
    "            if re.findall('^[0-9].+,[a-zA-Z]+',value):\n",
    "            # Extract the area (everything before the comma)\n",
    "                col['AREA'].append(value.split(',')[0].strip())\n",
    "            # Second case: Match a pattern like '123 ABC St'\n",
    "            elif re.findall('[0-9] [a-zA-Z]+',value.strip()):\n",
    "             # Extract the number and area\n",
    "                col['AREA'].append(value)\n",
    "        #To get city\n",
    "        #first case: match st single comma \n",
    "            match1=re.findall('.+st ,([a-zA-Z]).+',value)\n",
    "        #second case: match st,, followed by text\n",
    "            match2=re.findall('.+st,,([a-zA-Z]).+',value)\n",
    "        #third case: startswith letter'E'\n",
    "            match3=re.findall('^[E].*',value)\n",
    "            if match1:\n",
    "                col['CITY'].append(match1[0])\n",
    "            if match2:\n",
    "                col['CITY'].append(match2[0])\n",
    "            if match3:\n",
    "                col['CITY'].append(match3[0])\n",
    "        # To get state\n",
    "            state=re.search('[a-zA-Z]+(?: [a-zA-Z]+)*',value)\n",
    "            if state:\n",
    "                col['STATE'].append(state.group(0))\n",
    "            if len(col['STATE'])==2:\n",
    "                col['STATE'].pop(0)\n",
    "        # To get pincode\n",
    "            if value.isdigit or len(value)>=6:\n",
    "                col['PINCODE'].append(value)"
   ]
  }
 ],
 "metadata": {
  "kernelspec": {
   "display_name": "base",
   "language": "python",
   "name": "python3"
  },
  "language_info": {
   "codemirror_mode": {
    "name": "ipython",
    "version": 3
   },
   "file_extension": ".py",
   "mimetype": "text/x-python",
   "name": "python",
   "nbconvert_exporter": "python",
   "pygments_lexer": "ipython3",
   "version": "3.11.7"
  }
 },
 "nbformat": 4,
 "nbformat_minor": 2
}
